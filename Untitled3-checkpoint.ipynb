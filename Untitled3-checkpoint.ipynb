{
 "cells": [
  {
   "cell_type": "code",
   "execution_count": 3,
   "id": "101e93a8",
   "metadata": {},
   "outputs": [
    {
     "ename": "IndentationError",
     "evalue": "unexpected indent (<ipython-input-3-df79c620bd89>, line 5)",
     "output_type": "error",
     "traceback": [
      "\u001b[1;36m  File \u001b[1;32m\"<ipython-input-3-df79c620bd89>\"\u001b[1;36m, line \u001b[1;32m5\u001b[0m\n\u001b[1;33m    guess=0\u001b[0m\n\u001b[1;37m    ^\u001b[0m\n\u001b[1;31mIndentationError\u001b[0m\u001b[1;31m:\u001b[0m unexpected indent\n"
     ]
    }
   ],
   "source": [
    "import random\n",
    "\n",
    "def guess(x):random_number=random.randint(1,x)\n",
    "    \n",
    "    guess=0\n",
    "    \n",
    "    while guess !=random_number\n",
    "    \n",
    "    guess=int(input(f\"guess a number between 1 and {x}:\"))\n",
    "    \n",
    "    if guess < random_number:\n",
    "        \n",
    "        print(\"sorry, guess again.too low.\")\n",
    "        \n",
    "        elfif guess > random_number\n",
    "        \n",
    "        print(\"sorry,guess again.too high\")\n",
    "        \n",
    "        print(f\"yay! congrats you guessed the  number {random_number}corectlly!!!\")"
   ]
  },
  {
   "cell_type": "code",
   "execution_count": null,
   "id": "88b31c1a",
   "metadata": {},
   "outputs": [],
   "source": []
  }
 ],
 "metadata": {
  "kernelspec": {
   "display_name": "Python 3",
   "language": "python",
   "name": "python3"
  },
  "language_info": {
   "codemirror_mode": {
    "name": "ipython",
    "version": 3
   },
   "file_extension": ".py",
   "mimetype": "text/x-python",
   "name": "python",
   "nbconvert_exporter": "python",
   "pygments_lexer": "ipython3",
   "version": "3.8.8"
  }
 },
 "nbformat": 4,
 "nbformat_minor": 5
}
