{
 "cells": [
  {
   "cell_type": "markdown",
   "id": "91178dc5",
   "metadata": {},
   "source": [
    "# PRACTICE CLASS"
   ]
  },
  {
   "cell_type": "markdown",
   "id": "f3cf5e52",
   "metadata": {},
   "source": [
    "EXERCISE 1"
   ]
  },
  {
   "cell_type": "code",
   "execution_count": 3,
   "id": "ca42b9b1",
   "metadata": {},
   "outputs": [
    {
     "name": "stdout",
     "output_type": "stream",
     "text": [
      "James 08023567928\n"
     ]
    }
   ],
   "source": [
    "def show_details():\n",
    "    name=\"James\"\n",
    "    phoneno=\"08023567928\"\n",
    "    return name,phoneno\n",
    "mainname,mainphoneno=show_details()\n",
    "print(mainname,mainphoneno)"
   ]
  },
  {
   "cell_type": "markdown",
   "id": "8f7ca697",
   "metadata": {},
   "source": [
    "EXERCISE 2"
   ]
  },
  {
   "cell_type": "code",
   "execution_count": 13,
   "id": "2da79fd1",
   "metadata": {},
   "outputs": [
    {
     "ename": "NameError",
     "evalue": "name 'mainnumber' is not defined",
     "output_type": "error",
     "traceback": [
      "\u001b[1;31m---------------------------------------------------------------------------\u001b[0m",
      "\u001b[1;31mNameError\u001b[0m                                 Traceback (most recent call last)",
      "\u001b[1;32m<ipython-input-13-47699265fe22>\u001b[0m in \u001b[0;36m<module>\u001b[1;34m\u001b[0m\n\u001b[0;32m      3\u001b[0m     \u001b[0msqrt\u001b[0m\u001b[1;33m=\u001b[0m\u001b[0mmainnumber\u001b[0m\u001b[1;33m**\u001b[0m\u001b[1;36m2\u001b[0m\u001b[1;33m\u001b[0m\u001b[1;33m\u001b[0m\u001b[0m\n\u001b[0;32m      4\u001b[0m     \u001b[1;32mreturn\u001b[0m \u001b[0mmainnumber\u001b[0m\u001b[1;33m,\u001b[0m\u001b[0msqrt\u001b[0m\u001b[1;33m\u001b[0m\u001b[1;33m\u001b[0m\u001b[0m\n\u001b[1;32m----> 5\u001b[1;33m \u001b[0mmainnumber\u001b[0m\u001b[1;33m,\u001b[0m\u001b[0mmainsqrt\u001b[0m\u001b[1;33m=\u001b[0m\u001b[0msqrt\u001b[0m\u001b[1;33m(\u001b[0m\u001b[1;33m)\u001b[0m\u001b[1;33m\u001b[0m\u001b[1;33m\u001b[0m\u001b[0m\n\u001b[0m\u001b[0;32m      6\u001b[0m \u001b[0mnumber\u001b[0m\u001b[1;33m=\u001b[0m\u001b[0mint\u001b[0m\u001b[1;33m(\u001b[0m\u001b[0minput\u001b[0m\u001b[1;33m(\u001b[0m\u001b[1;34m\"Enter your number:\"\u001b[0m\u001b[1;33m)\u001b[0m\u001b[1;33m)\u001b[0m\u001b[1;33m\u001b[0m\u001b[1;33m\u001b[0m\u001b[0m\n\u001b[0;32m      7\u001b[0m \u001b[0mprint\u001b[0m\u001b[1;33m(\u001b[0m\u001b[0mmainnumber\u001b[0m\u001b[1;33m,\u001b[0m\u001b[0mmainsqrt\u001b[0m\u001b[1;33m)\u001b[0m\u001b[1;33m\u001b[0m\u001b[1;33m\u001b[0m\u001b[0m\n",
      "\u001b[1;32m<ipython-input-13-47699265fe22>\u001b[0m in \u001b[0;36msqrt\u001b[1;34m()\u001b[0m\n\u001b[0;32m      1\u001b[0m \u001b[1;32mdef\u001b[0m \u001b[0msqrt\u001b[0m\u001b[1;33m(\u001b[0m\u001b[1;33m)\u001b[0m\u001b[1;33m:\u001b[0m\u001b[1;33m\u001b[0m\u001b[1;33m\u001b[0m\u001b[0m\n\u001b[1;32m----> 2\u001b[1;33m     \u001b[0mmainnumber\u001b[0m\u001b[1;33m(\u001b[0m\u001b[1;33m)\u001b[0m\u001b[1;33m\u001b[0m\u001b[1;33m\u001b[0m\u001b[0m\n\u001b[0m\u001b[0;32m      3\u001b[0m     \u001b[0msqrt\u001b[0m\u001b[1;33m=\u001b[0m\u001b[0mmainnumber\u001b[0m\u001b[1;33m**\u001b[0m\u001b[1;36m2\u001b[0m\u001b[1;33m\u001b[0m\u001b[1;33m\u001b[0m\u001b[0m\n\u001b[0;32m      4\u001b[0m     \u001b[1;32mreturn\u001b[0m \u001b[0mmainnumber\u001b[0m\u001b[1;33m,\u001b[0m\u001b[0msqrt\u001b[0m\u001b[1;33m\u001b[0m\u001b[1;33m\u001b[0m\u001b[0m\n\u001b[0;32m      5\u001b[0m \u001b[0mmainnumber\u001b[0m\u001b[1;33m,\u001b[0m\u001b[0mmainsqrt\u001b[0m\u001b[1;33m=\u001b[0m\u001b[0msqrt\u001b[0m\u001b[1;33m(\u001b[0m\u001b[1;33m)\u001b[0m\u001b[1;33m\u001b[0m\u001b[1;33m\u001b[0m\u001b[0m\n",
      "\u001b[1;31mNameError\u001b[0m: name 'mainnumber' is not defined"
     ]
    }
   ],
   "source": [
    "def sqrt():\n",
    "    mainnumber()\n",
    "    sqrt=mainnumber**2\n",
    "    return mainnumber,sqrt\n",
    "mainnumber,mainsqrt=sqrt()\n",
    "number=int(input(\"Enter your number:\"))\n",
    "print(mainnumber,mainsqrt)"
   ]
  },
  {
   "cell_type": "markdown",
   "id": "1cc532a2",
   "metadata": {},
   "source": [
    "EXERCISE 3"
   ]
  },
  {
   "cell_type": "code",
   "execution_count": 74,
   "id": "bae2a087",
   "metadata": {},
   "outputs": [
    {
     "name": "stdout",
     "output_type": "stream",
     "text": [
      "enter your number:9\n",
      "The square root is 3.0\n"
     ]
    }
   ],
   "source": [
    "import math\n",
    "def sqrtno(a):\n",
    "    y=math.sqrt(a)\n",
    "    return y\n",
    "z=int(input(\"enter your number:\"))\n",
    "sqrr=sqrtno(z)\n",
    "print(\"The square root is\",sqrr)"
   ]
  },
  {
   "cell_type": "markdown",
   "id": "43b03efd",
   "metadata": {},
   "source": [
    "# LISTS AND TUPLES"
   ]
  },
  {
   "cell_type": "markdown",
   "id": "6b648c35",
   "metadata": {},
   "source": [
    "EXERCISE 1"
   ]
  },
  {
   "cell_type": "code",
   "execution_count": 16,
   "id": "5f90b65e",
   "metadata": {},
   "outputs": [
    {
     "name": "stdout",
     "output_type": "stream",
     "text": [
      "['God', 'Family', 'BTS', 'Hoddies', 'Coats', 'Wedges', 'Samsung', 'Bags', 'Food', 'CHOCOLATE']\n"
     ]
    }
   ],
   "source": [
    "Kevwe_list=[\"God\",\"Family\",\"BTS\",\"Hoddies\",\"Coats\",\"Wedges\",\"Samsung\",\"Bags\",\"Food\",\"CHOCOLATE\"]\n",
    "print(Kevwe_list)"
   ]
  },
  {
   "cell_type": "markdown",
   "id": "3a9e3297",
   "metadata": {},
   "source": [
    "EXERCISE 2"
   ]
  },
  {
   "cell_type": "code",
   "execution_count": 32,
   "id": "5a177010",
   "metadata": {},
   "outputs": [
    {
     "name": "stdout",
     "output_type": "stream",
     "text": [
      "['i', ' ', 'w', 'a', 'n', 't', ' ', 't', 'o', ' ', 't', 'r', 'a', 'v', 'e', 'l']\n"
     ]
    }
   ],
   "source": [
    "words=\"i want to travel\"\n",
    "listwords=list(words)\n",
    "print(listwords)"
   ]
  },
  {
   "cell_type": "code",
   "execution_count": 34,
   "id": "f6766e1a",
   "metadata": {},
   "outputs": [
    {
     "name": "stdout",
     "output_type": "stream",
     "text": [
      "i\n",
      " \n",
      "w\n",
      "a\n",
      "n\n",
      "t\n",
      " \n",
      "t\n",
      "o\n",
      " \n",
      "t\n",
      "r\n",
      "a\n",
      "v\n",
      "e\n",
      "l\n"
     ]
    }
   ],
   "source": [
    "words=\"i want to travel\"\n",
    "listwords=list(words)\n",
    "for item in listwords:\n",
    "    print(item)"
   ]
  },
  {
   "cell_type": "code",
   "execution_count": 33,
   "id": "f061d448",
   "metadata": {},
   "outputs": [
    {
     "name": "stdout",
     "output_type": "stream",
     "text": [
      "i want to travel\n",
      "i want to travel\n",
      "i want to travel\n",
      "i want to travel\n",
      "i want to travel\n",
      "i want to travel\n",
      "i want to travel\n",
      "i want to travel\n",
      "i want to travel\n",
      "i want to travel\n",
      "i want to travel\n",
      "i want to travel\n",
      "i want to travel\n",
      "i want to travel\n",
      "i want to travel\n",
      "i want to travel\n"
     ]
    }
   ],
   "source": [
    "words=\"i want to travel\"\n",
    "listwords=list(words)\n",
    "for item in listwords:\n",
    "    print(words)"
   ]
  },
  {
   "cell_type": "code",
   "execution_count": 35,
   "id": "9f895d8b",
   "metadata": {},
   "outputs": [
    {
     "name": "stdout",
     "output_type": "stream",
     "text": [
      "Enter your name:Ada\n",
      "USER FOUND\n",
      " Ada\n"
     ]
    }
   ],
   "source": [
    "name_list=[\"Olu\",\"Ade\",\"Bala\",\"Ayo\",\"Tayo\",\"Ada\",\"Uche\",\"Musa\",\"Obi\",\"Mike\"]\n",
    "name=input(\"Enter your name:\")\n",
    "if name in name_list:\n",
    "    print(\"USER FOUND\\n\",name)\n",
    "else:\n",
    "    print(\"USER NOT FOUND\")"
   ]
  },
  {
   "cell_type": "code",
   "execution_count": 36,
   "id": "b5d33890",
   "metadata": {},
   "outputs": [
    {
     "data": {
      "text/plain": [
       "'Mike'"
      ]
     },
     "execution_count": 36,
     "metadata": {},
     "output_type": "execute_result"
    }
   ],
   "source": [
    "name_list[-1]"
   ]
  },
  {
   "cell_type": "code",
   "execution_count": 37,
   "id": "382be0a6",
   "metadata": {},
   "outputs": [
    {
     "data": {
      "text/plain": [
       "'Olu'"
      ]
     },
     "execution_count": 37,
     "metadata": {},
     "output_type": "execute_result"
    }
   ],
   "source": [
    "name_list[0]"
   ]
  },
  {
   "cell_type": "code",
   "execution_count": 38,
   "id": "ccfc5fdd",
   "metadata": {},
   "outputs": [
    {
     "data": {
      "text/plain": [
       "'Obi'"
      ]
     },
     "execution_count": 38,
     "metadata": {},
     "output_type": "execute_result"
    }
   ],
   "source": [
    "name_list[-2]"
   ]
  },
  {
   "cell_type": "code",
   "execution_count": 40,
   "id": "6ffa4025",
   "metadata": {},
   "outputs": [
    {
     "data": {
      "text/plain": [
       "'Olu'"
      ]
     },
     "execution_count": 40,
     "metadata": {},
     "output_type": "execute_result"
    }
   ],
   "source": [
    "name_list[-10]"
   ]
  },
  {
   "cell_type": "markdown",
   "id": "62df91fd",
   "metadata": {},
   "source": [
    "EXERCISE 3"
   ]
  },
  {
   "cell_type": "code",
   "execution_count": 43,
   "id": "2cd94b27",
   "metadata": {},
   "outputs": [
    {
     "name": "stdout",
     "output_type": "stream",
     "text": [
      "['Anthonia', 'Ade', 'Bala', 'Ayo', 'Tayo', 'Ada', 'Uche', 'Musa', 'Obi', 'Mike']\n"
     ]
    }
   ],
   "source": [
    "name_list[0]=\"Anthonia\"\n",
    "print(name_list)"
   ]
  },
  {
   "cell_type": "code",
   "execution_count": 44,
   "id": "c2e55946",
   "metadata": {},
   "outputs": [
    {
     "name": "stdout",
     "output_type": "stream",
     "text": [
      "['Anthonia', 'Ade', 'Bala', 'Ayo', 'Tayo', 'Ada', 'Uche', 'Anthonia', 'Obi', 'Mike']\n"
     ]
    }
   ],
   "source": [
    "name_list[7]=\"Anthonia\"\n",
    "print(name_list)"
   ]
  },
  {
   "cell_type": "code",
   "execution_count": 45,
   "id": "a2da9685",
   "metadata": {},
   "outputs": [
    {
     "name": "stdout",
     "output_type": "stream",
     "text": [
      "['Anthonia', 'Ade', 'Bala', 'Ayo', 'Tayo', 'Ada', 'Uche', 'Anthonia', 'Obi', 'Mr Azu']\n"
     ]
    }
   ],
   "source": [
    "name_list[-1]=\"Mr Azu\"\n",
    "print(name_list)"
   ]
  },
  {
   "cell_type": "markdown",
   "id": "74a41756",
   "metadata": {},
   "source": [
    "CONCATENTATION"
   ]
  },
  {
   "cell_type": "code",
   "execution_count": 53,
   "id": "d44781b5",
   "metadata": {},
   "outputs": [
    {
     "name": "stdout",
     "output_type": "stream",
     "text": [
      "['God', 'Family', 'BTS', 'Hoddies', 'Coats', 'Wedges', 'Samsung', 'Bags', 'Food', 'CHOCOLATE', 'Anthonia', 'Ade', 'Bala', 'Ayo', 'Tayo', 'Ada', 'Uche', 'Anthonia', 'Obi', 'Mr Azu']\n"
     ]
    }
   ],
   "source": [
    "Our_list=Kevwe_list + name_list\n",
    "print(Our_list)"
   ]
  },
  {
   "cell_type": "code",
   "execution_count": 49,
   "id": "7279f3f8",
   "metadata": {},
   "outputs": [
    {
     "name": "stdout",
     "output_type": "stream",
     "text": [
      "['God', 'Family', 'BTS', 'Hoddies', 'Coats', 'Wedges', 'Samsung', 'Bags', 'Food', 'CHOCOLATE', 'Anthonia', 'Ade', 'Bala', 'Ayo', 'Tayo', 'Ada', 'Uche', 'Anthonia', 'Obi', 'Mr Azu', 'Baby', 'Toys', 'Blanket', 'Diapers']\n"
     ]
    }
   ],
   "source": [
    "child_list=[\"Baby\",\"Toys\",\"Blanket\",\"Diapers\"]\n",
    "the_list=Our_list + child_list\n",
    "print(the_list)"
   ]
  },
  {
   "cell_type": "markdown",
   "id": "531ef2dd",
   "metadata": {},
   "source": [
    "LIST SLICING"
   ]
  },
  {
   "cell_type": "code",
   "execution_count": 54,
   "id": "8571c5ae",
   "metadata": {},
   "outputs": [
    {
     "name": "stdout",
     "output_type": "stream",
     "text": [
      "['God', 'Family', 'BTS', 'Hoddies', 'Coats', 'Wedges', 'Samsung']\n"
     ]
    }
   ],
   "source": [
    "print(Kevwe_list[0:7])"
   ]
  },
  {
   "cell_type": "code",
   "execution_count": 55,
   "id": "0cba62bf",
   "metadata": {},
   "outputs": [
    {
     "name": "stdout",
     "output_type": "stream",
     "text": [
      "['God', 'Family', 'BTS', 'Hoddies', 'Coats', 'Wedges', 'Samsung', 'Bags', 'Food', 'CHOCOLATE']\n"
     ]
    }
   ],
   "source": [
    "print(Kevwe_list[0:])"
   ]
  },
  {
   "cell_type": "code",
   "execution_count": 56,
   "id": "5676cdda",
   "metadata": {},
   "outputs": [
    {
     "name": "stdout",
     "output_type": "stream",
     "text": [
      "['God', 'Family', 'BTS', 'Hoddies', 'Coats']\n"
     ]
    }
   ],
   "source": [
    "print(Kevwe_list[:5])"
   ]
  },
  {
   "cell_type": "code",
   "execution_count": 62,
   "id": "8392577d",
   "metadata": {},
   "outputs": [
    {
     "name": "stdout",
     "output_type": "stream",
     "text": [
      "['Coats', 'Wedges']\n"
     ]
    }
   ],
   "source": [
    "print(Kevwe_list[4:6])"
   ]
  },
  {
   "cell_type": "markdown",
   "id": "09ecbe96",
   "metadata": {},
   "source": [
    "APPEND(Item)function"
   ]
  },
  {
   "cell_type": "code",
   "execution_count": 65,
   "id": "43e9d50f",
   "metadata": {},
   "outputs": [
    {
     "name": "stdout",
     "output_type": "stream",
     "text": [
      "['God', 'Family', 'BTS', 'Hoddies', 'Coats', 'Wedges', 'Samsung', 'Bags', 'Food', 'CHOCOLATE', 'Anthonia', 'Ade', 'Bala', 'Ayo', 'Tayo', 'Ada', 'Uche', 'Anthonia', 'Obi', 'Mr Azu', 7, [7], 7]\n"
     ]
    }
   ],
   "source": [
    "Our_list.append(7)\n",
    "print(Our_list)"
   ]
  },
  {
   "cell_type": "code",
   "execution_count": 66,
   "id": "ef7e4cbb",
   "metadata": {},
   "outputs": [
    {
     "name": "stdout",
     "output_type": "stream",
     "text": [
      "['God', 'Family', 'BTS', 'Hoddies', 'Coats', 'Wedges', 'Samsung', 'Bags', 'Food', 'CHOCOLATE', 'Anthonia', 'Ade', 'Bala', 'Ayo', 'Tayo', 'Ada', 'Uche', 'Anthonia', 'Obi', 'Mr Azu', 7, [7], 7, [7]]\n"
     ]
    }
   ],
   "source": [
    "Our_list.append([7])\n",
    "print(Our_list)"
   ]
  },
  {
   "cell_type": "code",
   "execution_count": 67,
   "id": "7f09260c",
   "metadata": {},
   "outputs": [
    {
     "name": "stdout",
     "output_type": "stream",
     "text": [
      "Enter a name:ARMY\n",
      "['God', 'Family', 'BTS', 'Hoddies', 'Coats', 'Wedges', 'Samsung', 'Bags', 'Food', 'CHOCOLATE', 'ARMY']\n"
     ]
    }
   ],
   "source": [
    "name=input(\"Enter a name:\")\n",
    "Kevwe_list.append(name)\n",
    "print(Kevwe_list)"
   ]
  },
  {
   "cell_type": "code",
   "execution_count": 68,
   "id": "b7d86aef",
   "metadata": {},
   "outputs": [
    {
     "name": "stdout",
     "output_type": "stream",
     "text": [
      "Enter a name:Korea\n",
      "['God', 'Family', 'BTS', 'Hoddies', 'Coats', 'Wedges', 'Samsung', 'Bags', 'Food', 'CHOCOLATE', 'ARMY', 'Korea']\n",
      "Enter a name:Seoul\n",
      "['God', 'Family', 'BTS', 'Hoddies', 'Coats', 'Wedges', 'Samsung', 'Bags', 'Food', 'CHOCOLATE', 'ARMY', 'Korea', 'Seoul']\n",
      "Enter a name:Concert\n",
      "['God', 'Family', 'BTS', 'Hoddies', 'Coats', 'Wedges', 'Samsung', 'Bags', 'Food', 'CHOCOLATE', 'ARMY', 'Korea', 'Seoul', 'Concert']\n",
      "Enter a name:Fansign\n",
      "['God', 'Family', 'BTS', 'Hoddies', 'Coats', 'Wedges', 'Samsung', 'Bags', 'Food', 'CHOCOLATE', 'ARMY', 'Korea', 'Seoul', 'Concert', 'Fansign']\n",
      "Enter a name:Army bomb\n",
      "['God', 'Family', 'BTS', 'Hoddies', 'Coats', 'Wedges', 'Samsung', 'Bags', 'Food', 'CHOCOLATE', 'ARMY', 'Korea', 'Seoul', 'Concert', 'Fansign', 'Army bomb']\n"
     ]
    }
   ],
   "source": [
    "for i in range(5):\n",
    "    i=input(\"Enter a name:\")\n",
    "    Kevwe_list.append(i)\n",
    "    print(Kevwe_list)"
   ]
  },
  {
   "cell_type": "markdown",
   "id": "fdee7e7a",
   "metadata": {},
   "source": [
    "FINDING THE INDEX ITEM IN A LIST"
   ]
  },
  {
   "cell_type": "code",
   "execution_count": 72,
   "id": "77bf0b1e",
   "metadata": {},
   "outputs": [
    {
     "name": "stdout",
     "output_type": "stream",
     "text": [
      "Enter a name:Wedges\n"
     ]
    },
    {
     "data": {
      "text/plain": [
       "5"
      ]
     },
     "execution_count": 72,
     "metadata": {},
     "output_type": "execute_result"
    }
   ],
   "source": [
    "name=input(\"Enter a name:\")\n",
    "Kevwe_list.index(\"Wedges\")"
   ]
  },
  {
   "cell_type": "code",
   "execution_count": 78,
   "id": "19af6ceb",
   "metadata": {},
   "outputs": [],
   "source": [
    "name_list.insert(1,\"Keyamo\")"
   ]
  },
  {
   "cell_type": "code",
   "execution_count": 79,
   "id": "0e912e4c",
   "metadata": {},
   "outputs": [
    {
     "name": "stdout",
     "output_type": "stream",
     "text": [
      "['Anthonia', 'Keyamo', 'Keyamo', 'Ade', 'Bala', 'Ayo', 'Tayo', 'Ada', 'Uche', 'Anthonia', 'Obi', 'Mr Azu']\n"
     ]
    }
   ],
   "source": [
    "print(name_list)"
   ]
  },
  {
   "cell_type": "code",
   "execution_count": 81,
   "id": "f46fd41c",
   "metadata": {},
   "outputs": [
    {
     "name": "stdout",
     "output_type": "stream",
     "text": [
      "Enter a name:Keyamo\n"
     ]
    }
   ],
   "source": [
    "name=input(\"Enter a name:\")\n",
    "name_list.remove(\"Keyamo\")"
   ]
  },
  {
   "cell_type": "code",
   "execution_count": 82,
   "id": "7bca5d26",
   "metadata": {},
   "outputs": [
    {
     "name": "stdout",
     "output_type": "stream",
     "text": [
      "['Anthonia', 'Keyamo', 'Ade', 'Bala', 'Ayo', 'Tayo', 'Ada', 'Uche', 'Anthonia', 'Obi', 'Mr Azu']\n"
     ]
    }
   ],
   "source": [
    "print(name_list)"
   ]
  },
  {
   "cell_type": "code",
   "execution_count": null,
   "id": "7dc3c3b5",
   "metadata": {},
   "outputs": [
    {
     "name": "stdout",
     "output_type": "stream",
     "text": [
      "Enter a name:Anthonia\n"
     ]
    }
   ],
   "source": [
    "name=input(\"Enter a name:\")\n",
    "name_list.remove(\"Anthonia\")"
   ]
  },
  {
   "cell_type": "code",
   "execution_count": 2,
   "id": "efc1788c",
   "metadata": {},
   "outputs": [
    {
     "ename": "NameError",
     "evalue": "name 'name_list' is not defined",
     "output_type": "error",
     "traceback": [
      "\u001b[1;31m---------------------------------------------------------------------------\u001b[0m",
      "\u001b[1;31mNameError\u001b[0m                                 Traceback (most recent call last)",
      "\u001b[1;32m<ipython-input-2-9db24b452a9d>\u001b[0m in \u001b[0;36m<module>\u001b[1;34m\u001b[0m\n\u001b[1;32m----> 1\u001b[1;33m \u001b[0mprint\u001b[0m\u001b[1;33m(\u001b[0m\u001b[0mname_list\u001b[0m\u001b[1;33m)\u001b[0m\u001b[1;33m\u001b[0m\u001b[1;33m\u001b[0m\u001b[0m\n\u001b[0m",
      "\u001b[1;31mNameError\u001b[0m: name 'name_list' is not defined"
     ]
    }
   ],
   "source": [
    "print(name_list)"
   ]
  },
  {
   "cell_type": "code",
   "execution_count": null,
   "id": "e39ca6f7",
   "metadata": {},
   "outputs": [],
   "source": []
  }
 ],
 "metadata": {
  "kernelspec": {
   "display_name": "Python 3",
   "language": "python",
   "name": "python3"
  }
 },
 "nbformat": 4,
 "nbformat_minor": 5
}
