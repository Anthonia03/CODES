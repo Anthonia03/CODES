{
 "cells": [
  {
   "cell_type": "markdown",
   "id": "90514b15",
   "metadata": {},
   "source": [
    "FRIDAY CLASS EXERCISE"
   ]
  },
  {
   "cell_type": "markdown",
   "id": "d8c8dc00",
   "metadata": {},
   "source": [
    "EXERCISE 1"
   ]
  },
  {
   "cell_type": "code",
   "execution_count": 7,
   "id": "f58b8573",
   "metadata": {},
   "outputs": [
    {
     "name": "stdout",
     "output_type": "stream",
     "text": [
      "Enter the no of times you want the program to run:5\n",
      "Enter your number:1\n",
      "Enter your number:4\n",
      "Enter your number:7\n",
      "Enter your number:8\n",
      "Enter your number:9\n",
      "The sum is  29\n"
     ]
    }
   ],
   "source": [
    "num=int(input(\"Enter the no of times you want the program to run:\"))\n",
    "sum=0\n",
    "for i in range(num):\n",
    "    add=int(input(\"Enter your number:\"))\n",
    "    sum=add+sum\n",
    "print(\"The sum is \",sum)\n",
    "    "
   ]
  },
  {
   "cell_type": "markdown",
   "id": "24c8d68f",
   "metadata": {},
   "source": [
    "EXERCISE 2"
   ]
  },
  {
   "cell_type": "code",
   "execution_count": 23,
   "id": "ca5b55f7",
   "metadata": {},
   "outputs": [
    {
     "name": "stdout",
     "output_type": "stream",
     "text": [
      "The sum is: 2450\n"
     ]
    }
   ],
   "source": [
    "sum=0\n",
    "for no in range(2,99):\n",
    "    if (no%2)==0:\n",
    "        sum=sum+no\n",
    "print(\"The sum is:\",sum)\n",
    "    "
   ]
  },
  {
   "cell_type": "markdown",
   "id": "178fdcf3",
   "metadata": {},
   "source": [
    "EXERCISE 3"
   ]
  },
  {
   "cell_type": "code",
   "execution_count": 33,
   "id": "773ae508",
   "metadata": {},
   "outputs": [
    {
     "name": "stdout",
     "output_type": "stream",
     "text": [
      "The sum of even numbers is  20\n",
      "The sum of odd numbers is  24\n"
     ]
    }
   ],
   "source": [
    "sumn=0\n",
    "summ=0\n",
    "odd=0\n",
    "for no in range(2,10):\n",
    "    if(no%2==0):\n",
    "        summ=summ+no\n",
    "    else:\n",
    "        sumn=sumn+no\n",
    "print(\"The sum of even numbers is \",summ)\n",
    "print(\"The sum of odd numbers is \",sumn)"
   ]
  },
  {
   "cell_type": "markdown",
   "id": "11269760",
   "metadata": {},
   "source": [
    "EXERCISE 4(SENTINELS)"
   ]
  },
  {
   "cell_type": "code",
   "execution_count": 34,
   "id": "85d7ba09",
   "metadata": {},
   "outputs": [
    {
     "name": "stdout",
     "output_type": "stream",
     "text": [
      "Enter a number:3\n",
      "Enter:3\n",
      "Enter:4\n",
      "Enter:3\n",
      "Enter:0\n"
     ]
    }
   ],
   "source": [
    "n=int(input(\"Enter a number:\"))\n",
    "while n!=0:\n",
    "    n=int(input(\"Enter:\"))"
   ]
  },
  {
   "cell_type": "code",
   "execution_count": 1,
   "id": "b307a1f7",
   "metadata": {},
   "outputs": [
    {
     "name": "stdout",
     "output_type": "stream",
     "text": [
      "Enter a number:5\n",
      "ENTER:43\n",
      "ENTER:2\n",
      "ENTER:3\n",
      "ENTER:0\n",
      "dead end\n"
     ]
    }
   ],
   "source": [
    "n=int(input(\"Enter a number:\"))\n",
    "while True:\n",
    "    n=int(input(\"ENTER:\"))\n",
    "    if n==0:\n",
    "        print(\"dead end\")\n",
    "        break"
   ]
  },
  {
   "cell_type": "markdown",
   "id": "2a0660f0",
   "metadata": {},
   "source": [
    "EXERCISE 5"
   ]
  },
  {
   "cell_type": "code",
   "execution_count": 2,
   "id": "1ddc9266",
   "metadata": {},
   "outputs": [
    {
     "name": "stdout",
     "output_type": "stream",
     "text": [
      "Enter your age:12\n",
      "Enter number of minutes:23\n",
      "You burnt  96.60000000000001 calories today\n"
     ]
    }
   ],
   "source": [
    "cal_yg=4.2\n",
    "i = 0\n",
    "cal_old=3.5\n",
    "age=int(input(\"Enter your age:\"))\n",
    "time=int(input(\"Enter number of minutes:\"))\n",
    "for i in range(1):\n",
    "    if age<18:\n",
    "        n_calories=time*cal_yg\n",
    "        print(\"You burnt \",n_calories,\"calories today\")\n",
    "    else:\n",
    "        n_calories=time*cal_old\n",
    "        print(\"You burnt \",n_calories,\"calories today\")\n"
   ]
  },
  {
   "cell_type": "code",
   "execution_count": null,
   "id": "885432ba",
   "metadata": {},
   "outputs": [],
   "source": []
  }
 ],
 "metadata": {
  "kernelspec": {
   "display_name": "Python 3",
   "language": "python",
   "name": "python3"
  },
  "language_info": {
   "codemirror_mode": {
    "name": "ipython",
    "version": 3
   },
   "file_extension": ".py",
   "mimetype": "text/x-python",
   "name": "python",
   "nbconvert_exporter": "python",
   "pygments_lexer": "ipython3",
   "version": "3.8.8"
  }
 },
 "nbformat": 4,
 "nbformat_minor": 5
}
