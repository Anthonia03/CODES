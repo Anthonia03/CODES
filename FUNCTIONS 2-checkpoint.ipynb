{
 "cells": [
  {
   "cell_type": "markdown",
   "id": "7dbaa1c3",
   "metadata": {},
   "source": [
    "# FUNCTIONS (16/11/2021)"
   ]
  },
  {
   "cell_type": "markdown",
   "id": "553937d9",
   "metadata": {},
   "source": [
    "Exercise 1"
   ]
  },
  {
   "cell_type": "code",
   "execution_count": 9,
   "id": "aa286166",
   "metadata": {},
   "outputs": [
    {
     "name": "stdout",
     "output_type": "stream",
     "text": [
      "Enter your name:Anthonia\n",
      "Anthonia\n",
      "Hello Anthonia\n"
     ]
    }
   ],
   "source": [
    "#Definition of the main function\n",
    "def main():\n",
    "    name=get_name()\n",
    "    print(\"Hello\",name)\n",
    "\n",
    "def get_name():\n",
    "    name=input(\"Enter your name:\")\n",
    "    print(name)\n",
    "    return name\n",
    "main()"
   ]
  },
  {
   "cell_type": "code",
   "execution_count": 7,
   "id": "f8de6f4d",
   "metadata": {},
   "outputs": [
    {
     "name": "stdout",
     "output_type": "stream",
     "text": [
      "The birds in texas are  5000\n",
      "The birds in california are  8000\n"
     ]
    }
   ],
   "source": [
    "def main():\n",
    "    texas()\n",
    "    california()\n",
    "def texas():\n",
    "    birds=5000\n",
    "    print(\"The birds in texas are \",birds)\n",
    "def california():\n",
    "    birds2=8000\n",
    "    print(\"The birds in california are \",birds2)\n",
    "main()"
   ]
  },
  {
   "cell_type": "markdown",
   "id": "306ded15",
   "metadata": {},
   "source": [
    "# PARAMETERS AND ARGUMENTS"
   ]
  },
  {
   "cell_type": "markdown",
   "id": "e223354f",
   "metadata": {},
   "source": [
    "Example 3"
   ]
  },
  {
   "cell_type": "code",
   "execution_count": 13,
   "id": "494994d1",
   "metadata": {},
   "outputs": [
    {
     "name": "stdout",
     "output_type": "stream",
     "text": [
      "Enter your radius:45\n",
      "The area is 6362.55\n"
     ]
    }
   ],
   "source": [
    "def area(radius):\n",
    "    area=radius*radius*3.142\n",
    "    return area\n",
    "def main():\n",
    "    radius=int(input(\"Enter your radius:\"))\n",
    "    area2=area(radius)\n",
    "    print(\"The area is\",area2)\n",
    "main()"
   ]
  },
  {
   "cell_type": "markdown",
   "id": "f712ded8",
   "metadata": {},
   "source": [
    "# GLOBAL CONSTANTS"
   ]
  },
  {
   "cell_type": "markdown",
   "id": "3fee29d9",
   "metadata": {},
   "source": [
    "Example 4"
   ]
  },
  {
   "cell_type": "code",
   "execution_count": 15,
   "id": "4b7ed074",
   "metadata": {},
   "outputs": [
    {
     "name": "stdout",
     "output_type": "stream",
     "text": [
      "Enter your Gross pay:230000\n",
      "Enter your bonuses:3000\n",
      "Your gross pay contribution is 11500.0\n",
      "Your bonus pay contribution is 150.0\n"
     ]
    }
   ],
   "source": [
    "CONTRIBUTION_RATE=0.05\n",
    "\n",
    "def main():\n",
    "    grosspay=int(input(\"Enter your Gross pay:\"))\n",
    "    bonuspay=int(input(\"Enter your bonuses:\"))\n",
    "    show_pay_contrib(grosspay)\n",
    "    show_bon_contrib(bonuspay)\n",
    "    \n",
    "def show_pay_contrib(grosspay):\n",
    "    contrib=grosspay*CONTRIBUTION_RATE\n",
    "    print(\"Your gross pay contribution is\",contrib)\n",
    "\n",
    "def show_bon_contrib(bonuspay):\n",
    "    contrib=bonuspay*CONTRIBUTION_RATE\n",
    "    print(\"Your bonus pay contribution is\",contrib)\n",
    "    \n",
    "main()"
   ]
  },
  {
   "cell_type": "markdown",
   "id": "47fe4ce8",
   "metadata": {},
   "source": [
    "Example 5"
   ]
  },
  {
   "cell_type": "code",
   "execution_count": 22,
   "id": "e79ea605",
   "metadata": {},
   "outputs": [
    {
     "name": "stdout",
     "output_type": "stream",
     "text": [
      "The simple interest is 1000.0\n"
     ]
    }
   ],
   "source": [
    "def main():\n",
    "    show_interest(rate=0.01, periods=10, principal=10000)\n",
    "    \n",
    "def show_interest(principal,rate,periods):\n",
    "    simpleinterest=principal*rate*periods\n",
    "    print(\"The simple interest is\",simpleinterest)\n",
    "    \n",
    "main()"
   ]
  },
  {
   "cell_type": "markdown",
   "id": "fcf1c339",
   "metadata": {},
   "source": [
    "Example 6"
   ]
  },
  {
   "cell_type": "code",
   "execution_count": 24,
   "id": "3db867ec",
   "metadata": {},
   "outputs": [
    {
     "name": "stdout",
     "output_type": "stream",
     "text": [
      "Enter Your first name:Oghenerukevwe\n",
      "Enter your last name:Keyamo\n",
      "Your name reversed is\n",
      "Keyamo Oghenerukevwe\n"
     ]
    }
   ],
   "source": [
    "def main():\n",
    "    first_name=input(\"Enter Your first name:\")\n",
    "    last_name=input(\"Enter your last name:\")\n",
    "    print(\"Your name reversed is\")\n",
    "    rev_name(last=last_name ,first=first_name)\n",
    "    \n",
    "def rev_name(first,last):\n",
    "    print(last,first)\n",
    "    \n",
    "main()"
   ]
  },
  {
   "cell_type": "code",
   "execution_count": null,
   "id": "e96470d9",
   "metadata": {},
   "outputs": [],
   "source": []
  }
 ],
 "metadata": {
  "kernelspec": {
   "display_name": "Python 3",
   "language": "python",
   "name": "python3"
  },
  "language_info": {
   "codemirror_mode": {
    "name": "ipython",
    "version": 3
   },
   "file_extension": ".py",
   "mimetype": "text/x-python",
   "name": "python",
   "nbconvert_exporter": "python",
   "pygments_lexer": "ipython3",
   "version": "3.8.8"
  }
 },
 "nbformat": 4,
 "nbformat_minor": 5
}
