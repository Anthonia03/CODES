{
 "cells": [
  {
   "cell_type": "markdown",
   "id": "53e41d80",
   "metadata": {},
   "source": [
    "# STRINGS IN PHYTON"
   ]
  },
  {
   "cell_type": "code",
   "execution_count": 1,
   "id": "04cf6b07",
   "metadata": {},
   "outputs": [
    {
     "name": "stdout",
     "output_type": "stream",
     "text": [
      "a\n",
      "n\n",
      "t\n",
      "h\n",
      "o\n",
      "n\n",
      "i\n",
      "a\n"
     ]
    }
   ],
   "source": [
    "name=\"anthonia\"\n",
    "for char in name:\n",
    "    print(char)"
   ]
  },
  {
   "cell_type": "code",
   "execution_count": 2,
   "id": "711ebed8",
   "metadata": {},
   "outputs": [
    {
     "name": "stdout",
     "output_type": "stream",
     "text": [
      "8\n",
      "8\n",
      "8\n",
      "8\n",
      "8\n",
      "8\n",
      "8\n",
      "8\n"
     ]
    }
   ],
   "source": [
    "name=\"anthonia\"\n",
    "for char in name:\n",
    "    print(len(name))\n",
    "    "
   ]
  },
  {
   "cell_type": "code",
   "execution_count": 3,
   "id": "98c32a5f",
   "metadata": {},
   "outputs": [
    {
     "name": "stdout",
     "output_type": "stream",
     "text": [
      "8\n"
     ]
    }
   ],
   "source": [
    "name=\"anthonia\"\n",
    "print(len(name))\n",
    "    "
   ]
  },
  {
   "cell_type": "code",
   "execution_count": 5,
   "id": "d3960542",
   "metadata": {},
   "outputs": [
    {
     "name": "stdout",
     "output_type": "stream",
     "text": [
      "a\n"
     ]
    }
   ],
   "source": [
    "namelen=len(name)-1\n",
    "print(name[namelen])"
   ]
  },
  {
   "cell_type": "code",
   "execution_count": 11,
   "id": "377a925c",
   "metadata": {},
   "outputs": [
    {
     "name": "stdout",
     "output_type": "stream",
     "text": [
      "Enter name:anthonia\n",
      "Enter level:200\n",
      "anthonia200\n"
     ]
    }
   ],
   "source": [
    "name=input(\"Enter name:\")\n",
    "level=input(\"Enter level:\")\n",
    "full=name + level\n",
    "print(full)"
   ]
  },
  {
   "cell_type": "code",
   "execution_count": 1,
   "id": "22b1809c",
   "metadata": {},
   "outputs": [
    {
     "name": "stdout",
     "output_type": "stream",
     "text": [
      "Enter Jhn 3:16 word by word,terminate with a full stop(.):THOU\n",
      " THOU\n",
      "Enter Jhn 3:16 word by word,terminate with a full stop(.):SHALL\n",
      " THOU SHALL\n",
      "Enter Jhn 3:16 word by word,terminate with a full stop(.):NOT\n",
      " THOU SHALL NOT\n",
      "Enter Jhn 3:16 word by word,terminate with a full stop(.):COMMIT\n",
      " THOU SHALL NOT COMMIT\n",
      "Enter Jhn 3:16 word by word,terminate with a full stop(.):ADULTERY\n",
      " THOU SHALL NOT COMMIT ADULTERY\n",
      "Enter Jhn 3:16 word by word,terminate with a full stop(.):.\n",
      " THOU SHALL NOT COMMIT ADULTERY .\n"
     ]
    }
   ],
   "source": [
    "word=\"\" \n",
    "verse=\"\"\n",
    "while word!=\".\":\n",
    "    word=input(\"Enter Jhn 3:16 word by word,terminate with a full stop(.):\")\n",
    "    verse=verse+\" \"+word\n",
    "    print(verse)"
   ]
  },
  {
   "cell_type": "markdown",
   "id": "61541990",
   "metadata": {},
   "source": [
    "STRINGS ARE IMMUTABLE"
   ]
  },
  {
   "cell_type": "code",
   "execution_count": 2,
   "id": "16fc1ae1",
   "metadata": {},
   "outputs": [
    {
     "name": "stdout",
     "output_type": "stream",
     "text": [
      "k\n"
     ]
    },
    {
     "ename": "TypeError",
     "evalue": "'str' object does not support item assignment",
     "output_type": "error",
     "traceback": [
      "\u001b[1;31m---------------------------------------------------------------------------\u001b[0m",
      "\u001b[1;31mTypeError\u001b[0m                                 Traceback (most recent call last)",
      "\u001b[1;32m<ipython-input-2-664de0f23e76>\u001b[0m in \u001b[0;36m<module>\u001b[1;34m\u001b[0m\n\u001b[0;32m      3\u001b[0m \u001b[0mprint\u001b[0m\u001b[1;33m(\u001b[0m\u001b[0mchar\u001b[0m\u001b[1;33m)\u001b[0m\u001b[1;33m\u001b[0m\u001b[1;33m\u001b[0m\u001b[0m\n\u001b[0;32m      4\u001b[0m \u001b[0mletter\u001b[0m\u001b[1;33m=\u001b[0m\u001b[1;34m\"k\"\u001b[0m\u001b[1;33m\u001b[0m\u001b[1;33m\u001b[0m\u001b[0m\n\u001b[1;32m----> 5\u001b[1;33m \u001b[0mname\u001b[0m\u001b[1;33m[\u001b[0m\u001b[1;36m0\u001b[0m\u001b[1;33m]\u001b[0m\u001b[1;33m=\u001b[0m\u001b[0mletter\u001b[0m\u001b[1;33m\u001b[0m\u001b[1;33m\u001b[0m\u001b[0m\n\u001b[0m\u001b[0;32m      6\u001b[0m \u001b[0mprint\u001b[0m\u001b[1;33m(\u001b[0m\u001b[0mname\u001b[0m\u001b[1;33m[\u001b[0m\u001b[1;36m0\u001b[0m\u001b[1;33m]\u001b[0m\u001b[1;33m)\u001b[0m\u001b[1;33m\u001b[0m\u001b[1;33m\u001b[0m\u001b[0m\n",
      "\u001b[1;31mTypeError\u001b[0m: 'str' object does not support item assignment"
     ]
    }
   ],
   "source": [
    "name=\"kevwe\"\n",
    "char=name[0]\n",
    "print(char)\n",
    "letter=\"k\"\n",
    "name[0]=letter\n",
    "print(name[0])"
   ]
  },
  {
   "cell_type": "code",
   "execution_count": 4,
   "id": "4c825b8e",
   "metadata": {},
   "outputs": [
    {
     "name": "stdout",
     "output_type": "stream",
     "text": [
      "KaviK\n"
     ]
    }
   ],
   "source": [
    "name=\"david\"\n",
    "new=name.replace(\"d\",\"K\")\n",
    "print(new)\n"
   ]
  },
  {
   "cell_type": "markdown",
   "id": "0b617ce0",
   "metadata": {},
   "source": [
    "SLICING"
   ]
  },
  {
   "cell_type": "code",
   "execution_count": 6,
   "id": "4fff53b1",
   "metadata": {},
   "outputs": [
    {
     "name": "stdout",
     "output_type": "stream",
     "text": [
      "BIRTHDAY MONTH: January\n",
      "Jan\n"
     ]
    }
   ],
   "source": [
    "name=input(\"BIRTHDAY MONTH: \")\n",
    "name=name[0:3]\n",
    "print(name)"
   ]
  },
  {
   "cell_type": "code",
   "execution_count": 8,
   "id": "d4ff3d02",
   "metadata": {},
   "outputs": [
    {
     "name": "stdout",
     "output_type": "stream",
     "text": [
      "Yes\n"
     ]
    }
   ],
   "source": [
    "mystring=\"anthonia\"\n",
    "if mystring.isalnum():\n",
    "    print(\"Yes\")\n",
    "else:\n",
    "        print(\"Nah\")"
   ]
  },
  {
   "cell_type": "code",
   "execution_count": 11,
   "id": "0e2015fd",
   "metadata": {},
   "outputs": [
    {
     "name": "stdout",
     "output_type": "stream",
     "text": [
      "YES\n"
     ]
    }
   ],
   "source": [
    "mystring=\"anthonia\"\n",
    "if mystring.isalpha():\n",
    "    print(\"YES\")\n",
    "else:\n",
    "    print(\"no\")"
   ]
  },
  {
   "cell_type": "code",
   "execution_count": 12,
   "id": "fcae4324",
   "metadata": {},
   "outputs": [
    {
     "name": "stdout",
     "output_type": "stream",
     "text": [
      "no\n"
     ]
    }
   ],
   "source": [
    "mystring=\"anthonia\"\n",
    "if mystring.isdigit():\n",
    "    print(\"YES\")\n",
    "else:\n",
    "    print(\"no\")"
   ]
  },
  {
   "cell_type": "code",
   "execution_count": 13,
   "id": "c53c88a8",
   "metadata": {},
   "outputs": [
    {
     "name": "stdout",
     "output_type": "stream",
     "text": [
      "YES\n"
     ]
    }
   ],
   "source": [
    "mystring=\"anthonia\"\n",
    "if mystring.islower():\n",
    "    print(\"YES\")\n",
    "else:\n",
    "    print(\"no\")"
   ]
  },
  {
   "cell_type": "code",
   "execution_count": 14,
   "id": "7e687c65",
   "metadata": {},
   "outputs": [
    {
     "name": "stdout",
     "output_type": "stream",
     "text": [
      "no\n"
     ]
    }
   ],
   "source": [
    "mystring=\"anthonia\"\n",
    "if mystring.isspace():\n",
    "    print(\"YES\")\n",
    "else:\n",
    "    print(\"no\")"
   ]
  },
  {
   "cell_type": "code",
   "execution_count": 15,
   "id": "e7c9b4d3",
   "metadata": {},
   "outputs": [
    {
     "name": "stdout",
     "output_type": "stream",
     "text": [
      "no\n"
     ]
    }
   ],
   "source": [
    "mystring=\"anthonia\"\n",
    "if mystring.isupper():\n",
    "    print(\"YES\")\n",
    "else:\n",
    "    print(\"no\")"
   ]
  },
  {
   "cell_type": "code",
   "execution_count": 16,
   "id": "3206a67c",
   "metadata": {},
   "outputs": [
    {
     "ename": "SyntaxError",
     "evalue": "invalid syntax (<ipython-input-16-cef3e8cdd500>, line 5)",
     "output_type": "error",
     "traceback": [
      "\u001b[1;36m  File \u001b[1;32m\"<ipython-input-16-cef3e8cdd500>\"\u001b[1;36m, line \u001b[1;32m5\u001b[0m\n\u001b[1;33m    if password.isupper()\u001b[0m\n\u001b[1;37m                         ^\u001b[0m\n\u001b[1;31mSyntaxError\u001b[0m\u001b[1;31m:\u001b[0m invalid syntax\n"
     ]
    }
   ],
   "source": [
    "password=input(\"ENTER PASSWORD:\")\n",
    "def valid_password():\n",
    "    if len(password)< 7:\n",
    "        print(\"Password must be at least seven characters long\")\n",
    "    if password.islower():\n",
    "        print(\"Password must have at least one upper case \")\n",
    "    if password.isupper():\n",
    "        print()\n",
    "    "
   ]
  },
  {
   "cell_type": "code",
   "execution_count": null,
   "id": "abb2983d",
   "metadata": {},
   "outputs": [],
   "source": []
  }
 ],
 "metadata": {
  "kernelspec": {
   "display_name": "Python 3",
   "language": "python",
   "name": "python3"
  },
  "language_info": {
   "codemirror_mode": {
    "name": "ipython",
    "version": 3
   },
   "file_extension": ".py",
   "mimetype": "text/x-python",
   "name": "python",
   "nbconvert_exporter": "python",
   "pygments_lexer": "ipython3",
   "version": "3.8.8"
  }
 },
 "nbformat": 4,
 "nbformat_minor": 5
}
