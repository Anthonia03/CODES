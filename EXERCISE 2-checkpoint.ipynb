{
 "cells": [
  {
   "cell_type": "markdown",
   "id": "ec5771c8",
   "metadata": {},
   "source": [
    "CLASS EXERCISE"
   ]
  },
  {
   "cell_type": "code",
   "execution_count": 6,
   "id": "ddabd61d",
   "metadata": {},
   "outputs": [
    {
     "name": "stdout",
     "output_type": "stream",
     "text": [
      "I must make it to heaven\n",
      "I must make it to heaven\n",
      "I must make it to heaven\n",
      "I must make it to heaven\n"
     ]
    }
   ],
   "source": [
    "Num=1\n",
    "while Num<5:\n",
    "    print(\"I must make it to heaven\")\n",
    "    Num=Num+1\n",
    "    "
   ]
  },
  {
   "cell_type": "code",
   "execution_count": 7,
   "id": "334a497c",
   "metadata": {},
   "outputs": [],
   "source": [
    "Num=5\n",
    "while Num<5:\n",
    "    print(\"I must make it to heaven\")\n",
    "    Num=Num+1"
   ]
  },
  {
   "cell_type": "code",
   "execution_count": 1,
   "id": "b2c7b884",
   "metadata": {},
   "outputs": [
    {
     "name": "stdout",
     "output_type": "stream",
     "text": [
      "Enter no of sales:25\n",
      "Enter no of commission rate:56\n",
      "Your Commission rate is 1400\n",
      "Do you want to calculate another commission? enter y or n:y\n",
      "Enter no of sales:12\n",
      "Enter no of commission rate:45\n",
      "Your Commission rate is 540\n",
      "Do you want to calculate another commission? enter y or n:n\n"
     ]
    }
   ],
   "source": [
    "Keepgoing=\"y\"\n",
    "while Keepgoing==\"y\":\n",
    "    Sales=int(input(\"Enter no of sales:\"))\n",
    "    C_rate=int(input(\"Enter no of commission rate:\"))\n",
    "    Commission=C_rate*Sales\n",
    "    print(\"Your Commission rate is\",Commission)\n",
    "    Keepgoing=input(\"Do you want to calculate another commission? enter y or n:\")\n",
    "    "
   ]
  },
  {
   "cell_type": "markdown",
   "id": "bc4700a5",
   "metadata": {},
   "source": [
    "# THE FOR LOOP"
   ]
  },
  {
   "cell_type": "code",
   "execution_count": 9,
   "id": "9b331867",
   "metadata": {},
   "outputs": [
    {
     "name": "stdout",
     "output_type": "stream",
     "text": [
      "These are the Fathers of faith:Haggins,Copeland,Adeboye,Oyedepo,"
     ]
    }
   ],
   "source": [
    "print(\"These are the Fathers of faith:\",end=\"\")\n",
    "for name in [\"Haggins\",\"Copeland\",\"Adeboye\",\"Oyedepo\"]:\n",
    "    print(name,end=\",\")"
   ]
  },
  {
   "cell_type": "code",
   "execution_count": 13,
   "id": "7814e041",
   "metadata": {},
   "outputs": [
    {
     "name": "stdout",
     "output_type": "stream",
     "text": [
      "These are the Fathers of faith:  \n",
      "Haggins\n",
      "Copeland\n",
      "Adeboye\n",
      "Oyedepo\n"
     ]
    }
   ],
   "source": [
    "print(\"These are the Fathers of faith:\",\" \")\n",
    "for name in [\"Haggins\",\"Copeland\",\"Adeboye\",\"Oyedepo\"]:\n",
    "    print(name)"
   ]
  },
  {
   "cell_type": "code",
   "execution_count": 14,
   "id": "1f909279",
   "metadata": {},
   "outputs": [
    {
     "name": "stdout",
     "output_type": "stream",
     "text": [
      "These are the Fathers of faith:  \n",
      "I can make it\n",
      "I can make it\n",
      "I can make it\n",
      "I can make it\n"
     ]
    }
   ],
   "source": [
    "print(\"These are the Fathers of faith:\",\" \")\n",
    "for name in [\"Haggins\",\"Copeland\",\"Adeboye\",\"Oyedepo\"]:\n",
    "    print(\"I can make it\")"
   ]
  },
  {
   "cell_type": "code",
   "execution_count": 15,
   "id": "717135ed",
   "metadata": {},
   "outputs": [
    {
     "name": "stdout",
     "output_type": "stream",
     "text": [
      "0\n",
      "1\n",
      "2\n",
      "3\n",
      "4\n",
      "5\n",
      "6\n"
     ]
    }
   ],
   "source": [
    "for item in range(7):\n",
    "    print(item)"
   ]
  },
  {
   "cell_type": "code",
   "execution_count": 25,
   "id": "ca6f8ad2",
   "metadata": {},
   "outputs": [
    {
     "name": "stdout",
     "output_type": "stream",
     "text": [
      "This is the multiplication table: \n",
      "2 * 1 = 2\n",
      "2 * 2 = 4\n",
      "2 * 3 = 6\n",
      "2 * 4 = 8\n",
      "2 * 5 = 10\n",
      "2 * 6 = 12\n",
      "2 * 7 = 14\n",
      "2 * 8 = 16\n",
      "2 * 9 = 18\n",
      "2 * 10 = 20\n",
      "2 * 11 = 22\n",
      "2 * 12 = 24\n"
     ]
    }
   ],
   "source": [
    "print(\"This is the multiplication table:\",\"\")\n",
    "for table in range(1,13):\n",
    "    print(\"2 *\",table,\"=\",table*2)"
   ]
  },
  {
   "cell_type": "code",
   "execution_count": 27,
   "id": "357a923b",
   "metadata": {},
   "outputs": [
    {
     "name": "stdout",
     "output_type": "stream",
     "text": [
      "Even numbers between 1 and 100:\n",
      "2\n",
      "4\n",
      "6\n",
      "8\n",
      "10\n",
      "12\n",
      "14\n",
      "16\n",
      "18\n",
      "20\n",
      "22\n",
      "24\n",
      "26\n",
      "28\n",
      "30\n",
      "32\n",
      "34\n",
      "36\n",
      "38\n",
      "40\n",
      "42\n",
      "44\n",
      "46\n",
      "48\n",
      "50\n",
      "52\n",
      "54\n",
      "56\n",
      "58\n",
      "60\n",
      "62\n",
      "64\n",
      "66\n",
      "68\n",
      "70\n",
      "72\n",
      "74\n",
      "76\n",
      "78\n",
      "80\n",
      "82\n",
      "84\n",
      "86\n",
      "88\n",
      "90\n",
      "92\n",
      "94\n",
      "96\n",
      "98\n",
      "100\n"
     ]
    }
   ],
   "source": [
    "print(\"Even numbers between 1 and 100:\")\n",
    "for no in range(2,101,2):\n",
    "    print(no)"
   ]
  },
  {
   "cell_type": "code",
   "execution_count": 8,
   "id": "dc9fe1c0",
   "metadata": {},
   "outputs": [
    {
     "name": "stdout",
     "output_type": "stream",
     "text": [
      "prime numbers between 0 and 1000:\n",
      "2 3 5 7 11 13 17 19 23 29 31 37 41 43 47 53 59 61 67 71 73 79 83 89 97 "
     ]
    }
   ],
   "source": [
    "print(\"prime numbers between 0 and 1000:\")\n",
    "first=1\n",
    "last=100\n",
    "for num in range(first,last):\n",
    "    if num>1:\n",
    "        for i in range(2,num):\n",
    "            if (num%i)==0:\n",
    "                break\n",
    "        else:\n",
    "            print(num,end=\" \")\n",
    "    "
   ]
  },
  {
   "cell_type": "code",
   "execution_count": 50,
   "id": "5c2bd293",
   "metadata": {},
   "outputs": [
    {
     "name": "stdout",
     "output_type": "stream",
     "text": [
      "Number\tSquare\n",
      "--------------\n",
      "1 \t 1\n",
      "2 \t 4\n",
      "3 \t 9\n",
      "4 \t 16\n",
      "5 \t 25\n",
      "6 \t 36\n",
      "7 \t 49\n",
      "8 \t 64\n",
      "9 \t 81\n",
      "10 \t 100\n"
     ]
    }
   ],
   "source": [
    "#Print the table headings.\n",
    "print(\"Number\\tSquare\")\n",
    "print(\"--------------\")\n",
    "for number in range(1,11):\n",
    "    square=number**2\n",
    "    print(number,\"\\t\",square)"
   ]
  },
  {
   "cell_type": "code",
   "execution_count": null,
   "id": "341c33d9",
   "metadata": {},
   "outputs": [],
   "source": []
  }
 ],
 "metadata": {
  "kernelspec": {
   "display_name": "Python 3",
   "language": "python",
   "name": "python3"
  },
  "language_info": {
   "codemirror_mode": {
    "name": "ipython",
    "version": 3
   },
   "file_extension": ".py",
   "mimetype": "text/x-python",
   "name": "python",
   "nbconvert_exporter": "python",
   "pygments_lexer": "ipython3",
   "version": "3.8.8"
  }
 },
 "nbformat": 4,
 "nbformat_minor": 5
}
