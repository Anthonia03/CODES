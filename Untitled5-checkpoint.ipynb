{
 "cells": [
  {
   "cell_type": "code",
   "execution_count": 1,
   "id": "073c62a5",
   "metadata": {},
   "outputs": [
    {
     "name": "stdout",
     "output_type": "stream",
     "text": [
      "top speed is\n",
      "160\n",
      "the distance travelled is\n",
      "300\n"
     ]
    }
   ],
   "source": [
    "top_speed = 160\n",
    "distance = 300\n",
    "print('top speed is')\n",
    "print(top_speed)\n",
    "print('the distance travelled is')\n",
    "print(distance)"
   ]
  },
  {
   "cell_type": "code",
   "execution_count": 6,
   "id": "636a8f32",
   "metadata": {},
   "outputs": [
    {
     "name": "stdout",
     "output_type": "stream",
     "text": [
      "i am staying in dorm\n",
      "503\n"
     ]
    }
   ],
   "source": [
    "dorm = 4\n",
    "print('i am staying in dorm')\n",
    "print(room)"
   ]
  },
  {
   "cell_type": "code",
   "execution_count": 2,
   "id": "4eafeb00",
   "metadata": {},
   "outputs": [
    {
     "name": "stdout",
     "output_type": "stream",
     "text": [
      "i am staying in dorm\n",
      "4\n"
     ]
    }
   ],
   "source": [
    "dorm = 4\n",
    "print('i am staying in dorm') \n",
    "print(dorm)"
   ]
  },
  {
   "cell_type": "code",
   "execution_count": 8,
   "id": "02658fee",
   "metadata": {},
   "outputs": [
    {
     "name": "stdout",
     "output_type": "stream",
     "text": [
      "i am staying in dorm\n",
      "5\n"
     ]
    }
   ],
   "source": [
    "dorm = 5\n",
    "print('i am staying in dorm')\n",
    "print(dorm)"
   ]
  },
  {
   "cell_type": "code",
   "execution_count": null,
   "id": "7b0075bf",
   "metadata": {},
   "outputs": [],
   "source": []
  }
 ],
 "metadata": {
  "kernelspec": {
   "display_name": "Python 3",
   "language": "python",
   "name": "python3"
  },
  "language_info": {
   "codemirror_mode": {
    "name": "ipython",
    "version": 3
   },
   "file_extension": ".py",
   "mimetype": "text/x-python",
   "name": "python",
   "nbconvert_exporter": "python",
   "pygments_lexer": "ipython3",
   "version": "3.8.8"
  }
 },
 "nbformat": 4,
 "nbformat_minor": 5
}
