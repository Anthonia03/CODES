{
 "cells": [
  {
   "cell_type": "markdown",
   "id": "a2e87ab3",
   "metadata": {},
   "source": [
    "CLASSWORK EXERCISE 3"
   ]
  },
  {
   "cell_type": "code",
   "execution_count": 2,
   "id": "bc72dea3",
   "metadata": {},
   "outputs": [],
   "source": [
    "def sum(a,b):\n",
    "    c=a+b\n",
    "    return c"
   ]
  },
  {
   "cell_type": "code",
   "execution_count": 6,
   "id": "791d0bad",
   "metadata": {},
   "outputs": [
    {
     "name": "stdout",
     "output_type": "stream",
     "text": [
      "Enter a number:3\n",
      "Enter a number3\n",
      "The sum is  6\n"
     ]
    }
   ],
   "source": [
    "num1=int(input(\"Enter a number:\"))\n",
    "num2=int(input(\"Enter a number\"))\n",
    "num3=num1+num2\n",
    "print(\"The sum is \",num3)\n",
    "def sum(num1,num2):\n",
    "    num3=num1+num2\n",
    "    return num3"
   ]
  },
  {
   "cell_type": "code",
   "execution_count": 7,
   "id": "d140da4f",
   "metadata": {},
   "outputs": [],
   "source": [
    "d=100"
   ]
  },
  {
   "cell_type": "code",
   "execution_count": 8,
   "id": "911210f1",
   "metadata": {},
   "outputs": [
    {
     "data": {
      "text/plain": [
       "100"
      ]
     },
     "execution_count": 8,
     "metadata": {},
     "output_type": "execute_result"
    }
   ],
   "source": [
    "d"
   ]
  },
  {
   "cell_type": "code",
   "execution_count": 4,
   "id": "02955725",
   "metadata": {},
   "outputs": [
    {
     "name": "stdout",
     "output_type": "stream",
     "text": [
      "WELCOME TO KEVWE'S SIMPLE CALCULATOR\n",
      "Enter a number:3\n",
      "Enter a number:4\n",
      "Enter mode of operation:enter 1,2,3,4 or 5\n",
      "Enter the number of operation:4\n",
      "The dividend is 0.75\n"
     ]
    }
   ],
   "source": [
    "def sum(a,b):\n",
    "    c=a+b\n",
    "    return c\n",
    "\n",
    "def sub(a,b):\n",
    "    c=a-b\n",
    "    return c\n",
    "\n",
    "def mult(a,b):\n",
    "    c=a*b\n",
    "    return c\n",
    "\n",
    "def div(a,b):\n",
    "    c=a/b\n",
    "    return c\n",
    "\n",
    "def exp(a,b):\n",
    "    c=a**b\n",
    "    return c\n",
    "\n",
    "print(\"WELCOME TO KEVWE'S SIMPLE CALCULATOR\")\n",
    "num1=int(input(\"Enter a number:\"))\n",
    "num2=int(input(\"Enter a number:\"))\n",
    "print(\"Enter mode of operation:enter 1,2,3,4 or 5\")\n",
    "operation=int(input(\"Enter the number of operation:\"))\n",
    "if operation == 1:\n",
    "    sum=sum(num1,num2)\n",
    "    print(\"The sum is \",sum)\n",
    "elif operation==2:\n",
    "    sub=sub(num1,num2)\n",
    "    print(\"The difference is\",sub)\n",
    "elif operation==3:\n",
    "    mult=mult(num1,num2)\n",
    "    print(\"The product is\",mult)\n",
    "elif operation==4:\n",
    "    div=div(num1,num2)\n",
    "    print(\"The dividend is\",div)\n",
    "elif operation==5:\n",
    "    exp=exp(num1,num2)\n",
    "    print(\"The exponential is\",exp)\n",
    "    "
   ]
  },
  {
   "cell_type": "code",
   "execution_count": null,
   "id": "8ae03807",
   "metadata": {},
   "outputs": [],
   "source": []
  }
 ],
 "metadata": {
  "kernelspec": {
   "display_name": "Python 3",
   "language": "python",
   "name": "python3"
  },
  "language_info": {
   "codemirror_mode": {
    "name": "ipython",
    "version": 3
   },
   "file_extension": ".py",
   "mimetype": "text/x-python",
   "name": "python",
   "nbconvert_exporter": "python",
   "pygments_lexer": "ipython3",
   "version": "3.8.8"
  }
 },
 "nbformat": 4,
 "nbformat_minor": 5
}
