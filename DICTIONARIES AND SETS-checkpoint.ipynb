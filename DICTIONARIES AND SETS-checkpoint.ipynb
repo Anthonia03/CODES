{
 "cells": [
  {
   "cell_type": "code",
   "execution_count": 1,
   "id": "0d507640",
   "metadata": {},
   "outputs": [
    {
     "data": {
      "text/plain": [
       "{'Chris': '213-345', 'Anna': '789-453', 'Sarah': '120-432', 'Wendy': '253-498'}"
      ]
     },
     "execution_count": 1,
     "metadata": {},
     "output_type": "execute_result"
    }
   ],
   "source": [
    "phonebook={\"Chris\":\"213-345\",\"Anna\":\"789-453\",\"Sarah\":\"120-432\"}\n",
    "phonebook[\"Wendy\"]=\"253-498\"\n",
    "phonebook"
   ]
  },
  {
   "cell_type": "code",
   "execution_count": 2,
   "id": "6ef5cae0",
   "metadata": {},
   "outputs": [
    {
     "name": "stdout",
     "output_type": "stream",
     "text": [
      "{'Chris': '213-345', 'Anna': '789-453', 'Sarah': '120-432', 'Wendy': '253-498'}\n"
     ]
    }
   ],
   "source": [
    "phonebook={\"Chris\":\"213-345\",\"Anna\":\"789-453\",\"Sarah\":\"120-432\"}\n",
    "phonebook[\"Wendy\"]=\"253-498\"\n",
    "print(phonebook)"
   ]
  },
  {
   "cell_type": "code",
   "execution_count": 3,
   "id": "f563bc60",
   "metadata": {},
   "outputs": [
    {
     "data": {
      "text/plain": [
       "{'Chris': '213-345', 'Sarah': '120-432'}"
      ]
     },
     "execution_count": 3,
     "metadata": {},
     "output_type": "execute_result"
    }
   ],
   "source": [
    "phonebook={\"Chris\":\"213-345\",\"Anna\":\"789-453\",\"Sarah\":\"120-432\"}\n",
    "del phonebook[\"Anna\"]\n",
    "phonebook"
   ]
  },
  {
   "cell_type": "code",
   "execution_count": 24,
   "id": "20c92208",
   "metadata": {},
   "outputs": [
    {
     "name": "stdout",
     "output_type": "stream",
     "text": [
      "Input a key:WENDY\n",
      "Key not found\n"
     ]
    }
   ],
   "source": [
    "phonebook={\"Chris\":\"213-345\",\"Anna\":\"789-453\",\"Sarah\":\"120-432\"}\n",
    "key=input(\"Input a key:\")\n",
    "if key in phonebook:\n",
    "    ans=input(\"Do you want to delete?,YES OR NO :\")\n",
    "    if \"YES\":\n",
    "        del phonebook[key]\n",
    "        print(phonebook)\n",
    "else:\n",
    "    print(\"Key not found\")\n",
    "    \n",
    "        "
   ]
  },
  {
   "cell_type": "code",
   "execution_count": 1,
   "id": "7ab43152",
   "metadata": {},
   "outputs": [
    {
     "name": "stdout",
     "output_type": "stream",
     "text": [
      "Enter Score :45\n",
      "Enter Score :56\n",
      "Enter Score :98\n",
      "Enter Score :54\n",
      "Enter Score :65\n",
      "Enter Score :67\n",
      "Enter Score :98\n",
      "Enter Score :87\n",
      "Enter Score :76\n",
      "Enter Score :84\n",
      "Enter Score :53\n",
      "Enter Score :23\n",
      "Enter Score :24\n",
      "Enter Score :12\n",
      "Enter Score :98\n",
      "{'Segun': ['45', '56', '98'], 'Bisi': ['54', '65', '67'], 'Ade': ['98', '87', '76'], 'David': ['84', '53', '23'], 'Saul': ['24', '12', '98']}\n"
     ]
    }
   ],
   "source": [
    "mylist=[\"Segun\",\"Bisi\",\"Ade\",\"David\",\"Saul\"]\n",
    "scorelist={}\n",
    "for item in mylist:\n",
    "    nlist=[]\n",
    "    for i in range(3):\n",
    "        num=input(\"Enter Score :\")\n",
    "        nlist.append(num)\n",
    "    scorelist[item]=nlist\n",
    "print(scorelist)\n",
    "    "
   ]
  },
  {
   "cell_type": "code",
   "execution_count": 3,
   "id": "3a580ac2",
   "metadata": {},
   "outputs": [
    {
     "data": {
      "text/plain": [
       "3"
      ]
     },
     "execution_count": 3,
     "metadata": {},
     "output_type": "execute_result"
    }
   ],
   "source": [
    "phonebook={\"Chris\":\"213-345\",\"Anna\":\"789-453\",\"Sarah\":\"120-432\"}\n",
    "len(phonebook)\n"
   ]
  },
  {
   "cell_type": "code",
   "execution_count": 7,
   "id": "9bdbe082",
   "metadata": {},
   "outputs": [
    {
     "name": "stdout",
     "output_type": "stream",
     "text": [
      "44.666666666666664\n"
     ]
    }
   ],
   "source": [
    "scorelist={'Segun': ['45', '56', '98'], 'Bisi': ['54', '65', '67'], 'Ade': ['98', '87', '76'], 'David': ['84', '53', '23'], 'Saul': ['24', '12', '98']}\n",
    "for key in scorelist:\n",
    "    avg=0.0\n",
    "    score1=scorelist[key]\n",
    "    score=0\n",
    "    for i in score1:\n",
    "        score+=int(i)\n",
    "    avg=score/3\n",
    "print(avg)\n",
    "        \n",
    "    \n"
   ]
  },
  {
   "cell_type": "code",
   "execution_count": 8,
   "id": "d490b8bc",
   "metadata": {},
   "outputs": [
    {
     "data": {
      "text/plain": [
       "'213-345'"
      ]
     },
     "execution_count": 8,
     "metadata": {},
     "output_type": "execute_result"
    }
   ],
   "source": [
    "phonebook={\"Chris\":\"213-345\",\"Anna\":\"789-453\",\"Sarah\":\"120-432\"}\n",
    "phonebook.get(\"Chris\",\"Error\")"
   ]
  },
  {
   "cell_type": "code",
   "execution_count": 12,
   "id": "14f96b6d",
   "metadata": {},
   "outputs": [
    {
     "data": {
      "text/plain": [
       "dict_items([('Chris', '213-345'), ('Anna', '789-453'), ('Sarah', '120-432')])"
      ]
     },
     "execution_count": 12,
     "metadata": {},
     "output_type": "execute_result"
    }
   ],
   "source": [
    "phonebook={\"Chris\":\"213-345\",\"Anna\":\"789-453\",\"Sarah\":\"120-432\"}\n",
    "phonebook.items()\n"
   ]
  },
  {
   "cell_type": "code",
   "execution_count": 2,
   "id": "2afdded1",
   "metadata": {},
   "outputs": [
    {
     "data": {
      "text/plain": [
       "{}"
      ]
     },
     "execution_count": 2,
     "metadata": {},
     "output_type": "execute_result"
    }
   ],
   "source": [
    "phonebook={\"Chris\":\"213-345\",\"Anna\":\"789-453\",\"Sarah\":\"120-432\"}\n",
    "phonebook.clear()\n",
    "phonebook"
   ]
  },
  {
   "cell_type": "code",
   "execution_count": 3,
   "id": "6b982c33",
   "metadata": {},
   "outputs": [
    {
     "data": {
      "text/plain": [
       "'213-345'"
      ]
     },
     "execution_count": 3,
     "metadata": {},
     "output_type": "execute_result"
    }
   ],
   "source": [
    "phonebook={\"Chris\":\"213-345\",\"Anna\":\"789-453\",\"Sarah\":\"120-432\"}\n",
    "phonebook.pop(\"Chris\",\"Error\")"
   ]
  },
  {
   "cell_type": "markdown",
   "id": "d70a174a",
   "metadata": {},
   "source": [
    "PRACTICE"
   ]
  },
  {
   "cell_type": "code",
   "execution_count": null,
   "id": "d1123ea7",
   "metadata": {},
   "outputs": [],
   "source": [
    "477"
   ]
  }
 ],
 "metadata": {
  "kernelspec": {
   "display_name": "Python 3",
   "language": "python",
   "name": "python3"
  },
  "language_info": {
   "codemirror_mode": {
    "name": "ipython",
    "version": 3
   },
   "file_extension": ".py",
   "mimetype": "text/x-python",
   "name": "python",
   "nbconvert_exporter": "python",
   "pygments_lexer": "ipython3",
   "version": "3.8.8"
  }
 },
 "nbformat": 4,
 "nbformat_minor": 5
}
