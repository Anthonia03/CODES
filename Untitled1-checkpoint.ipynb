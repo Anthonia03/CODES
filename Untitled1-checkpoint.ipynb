{
 "cells": [
  {
   "cell_type": "code",
   "execution_count": 1,
   "id": "bd3cf537",
   "metadata": {},
   "outputs": [
    {
     "name": "stdout",
     "output_type": "stream",
     "text": [
      "your pay is: 3700.0\n"
     ]
    }
   ],
   "source": [
    "salary=2500.0\n",
    "bonus=1200.0\n",
    "pay=salary+bonus\n",
    "\n",
    "print(\"your pay is:\",pay)"
   ]
  },
  {
   "cell_type": "code",
   "execution_count": 3,
   "id": "fcfd62d1",
   "metadata": {},
   "outputs": [
    {
     "name": "stdout",
     "output_type": "stream",
     "text": [
      "enter the items original price100\n",
      "the sale price is 80.0\n"
     ]
    }
   ],
   "source": [
    "originalprice=float(input(\"enter the items original price\"))\n",
    "discount=originalprice*0.2\n",
    "saleprice=originalprice-discount\n",
    "\n",
    "\n",
    "print(\"the sale price is\",saleprice)"
   ]
  },
  {
   "cell_type": "code",
   "execution_count": null,
   "id": "53267337",
   "metadata": {},
   "outputs": [],
   "source": []
  }
 ],
 "metadata": {
  "kernelspec": {
   "display_name": "Python 3",
   "language": "python",
   "name": "python3"
  },
  "language_info": {
   "codemirror_mode": {
    "name": "ipython",
    "version": 3
   },
   "file_extension": ".py",
   "mimetype": "text/x-python",
   "name": "python",
   "nbconvert_exporter": "python",
   "pygments_lexer": "ipython3",
   "version": "3.8.8"
  }
 },
 "nbformat": 4,
 "nbformat_minor": 5
}
