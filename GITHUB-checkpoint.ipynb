{
 "cells": [
  {
   "cell_type": "code",
   "execution_count": 2,
   "id": "23540278",
   "metadata": {},
   "outputs": [
    {
     "name": "stdout",
     "output_type": "stream",
     "text": [
      "Please enter the original price for the product: 2500\n",
      "The sale price is  2000.0\n"
     ]
    }
   ],
   "source": [
    "original_price=int(input(\"Please enter the original price for the product: \"))\n",
    "discount = original_price * 0.2\n",
    "sale_price = original_price - discount\n",
    "print(\"The sale price is \",sale_price)"
   ]
  },
  {
   "cell_type": "code",
   "execution_count": 3,
   "id": "73a76881",
   "metadata": {},
   "outputs": [
    {
     "name": "stdout",
     "output_type": "stream",
     "text": [
      "Enter your first score: 23\n",
      "Enter your second score: 12\n",
      "Enter your third score: 12\n",
      "Your average score is  15\n"
     ]
    }
   ],
   "source": [
    "first_score = int(input(\"Enter your first score: \"))\n",
    "second_score = int(input(\"Enter your second score: \"))\n",
    "third_score = int(input(\"Enter your third score: \"))\n",
    "average = (first_score + second_score + third_score) // 3\n",
    "print(\"Your average score is \",average)"
   ]
  },
  {
   "cell_type": "code",
   "execution_count": 1,
   "id": "0e3897ac",
   "metadata": {},
   "outputs": [
    {
     "name": "stdout",
     "output_type": "stream",
     "text": [
      "Enter your expected future value: 1200000\n",
      "Enter your interest rate: 2\n",
      "Enter your number of years: 3\n",
      "You are expected to deposit  44444.444444444445\n"
     ]
    }
   ],
   "source": [
    "future_value = int(input(\"Enter your expected future value: \"))\n",
    "rate = int(input(\"Enter your interest rate: \"))\n",
    "num = int(input(\"Enter your number of years: \"))\n",
    "pres_val = future_value/(1+rate)**num\n",
    "print(\"You are expected to deposit \", pres_val)"
   ]
  },
  {
   "cell_type": "code",
   "execution_count": 2,
   "id": "0a4117a9",
   "metadata": {},
   "outputs": [
    {
     "name": "stdout",
     "output_type": "stream",
     "text": [
      "Enter your age: 23\n",
      "23\n"
     ]
    }
   ],
   "source": [
    "age = int(input(\"Enter your age: \"))\n",
    "print(age)"
   ]
  },
  {
   "cell_type": "code",
   "execution_count": 3,
   "id": "224aa49c",
   "metadata": {},
   "outputs": [
    {
     "name": "stdout",
     "output_type": "stream",
     "text": [
      "Enter your color: Blue\n",
      "Blue\n"
     ]
    }
   ],
   "source": [
    "color = input(\"Enter your color: \")\n",
    "print(color)"
   ]
  },
  {
   "cell_type": "code",
   "execution_count": 1,
   "id": "47b69eff",
   "metadata": {},
   "outputs": [
    {
     "name": "stdout",
     "output_type": "stream",
     "text": [
      "FILL IN YOUR DETAILS\n",
      "Enter your name: Keyamo Anthonia\n",
      "ADDRESS\n",
      "Enter your address: No 1 Chukwudi street Asaba \n",
      "Your city: Asaba\n",
      "Your state: Delta State\n",
      "Your ZIP number: 2340102\n",
      "Your number: 09126438787\n",
      "Your college major: Computer Science\n",
      "YOUR DETAILS ARE \n",
      "Keyamo Anthonia\n",
      "No 1 Chukwudi street Asaba  Asaba Delta State 2340102\n",
      "9126438787\n",
      "Computer Science\n"
     ]
    }
   ],
   "source": [
    "print(\"FILL IN YOUR DETAILS\")\n",
    "name = input(\"Enter your name: \")\n",
    "print(\"ADDRESS\")\n",
    "address= input(\"Enter your address: \")\n",
    "city = input(\"Your city: \")\n",
    "state = input(\"Your state: \")\n",
    "zipnum = int(input(\"Your ZIP number: \"))\n",
    "tel_num= int(input(\"Your number: \"))\n",
    "col_maj= input(\"Your college major: \")\n",
    "print(\"YOUR DETAILS ARE \")\n",
    "print(name)\n",
    "print(address,city,state,zipnum)\n",
    "print(tel_num)\n",
    "print(col_maj)\n"
   ]
  },
  {
   "cell_type": "code",
   "execution_count": 1,
   "id": "29d87e19",
   "metadata": {},
   "outputs": [
    {
     "name": "stdout",
     "output_type": "stream",
     "text": [
      "Enter mass in pounds : 23.4\n",
      "Your mass in kilograms is  10.6236\n"
     ]
    }
   ],
   "source": [
    "mass = float(input(\"Enter mass in pounds : \"))\n",
    "kilo = mass * 0.454\n",
    "print(\"Your mass in kilograms is \",kilo)"
   ]
  },
  {
   "cell_type": "code",
   "execution_count": 3,
   "id": "50e6424d",
   "metadata": {},
   "outputs": [
    {
     "name": "stdout",
     "output_type": "stream",
     "text": [
      "Enter price :23.45\n",
      "Enter price :34.54\n",
      "Enter price :2.10\n",
      "Enter price :19.87\n",
      "Enter price :76.50\n",
      "Your total price is  156.45999999999998\n",
      "Your sales tax is  109.52199999999998\n",
      "Your final total is  265.98199999999997\n"
     ]
    }
   ],
   "source": [
    "p1 = float(input(\"Enter price :\"))\n",
    "p2 = float(input(\"Enter price :\"))\n",
    "p3 = float(input(\"Enter price :\"))\n",
    "p4 = float(input(\"Enter price :\"))\n",
    "p5 = float(input(\"Enter price :\"))\n",
    "stotal = p1+p2+p3+p4+p5\n",
    "stax = stotal * 0.7\n",
    "t_total = stotal + stax\n",
    "print(\"Your total price is \",stotal)\n",
    "print(\"Your sales tax is \",stax)\n",
    "print(\"Your final total is \",t_total)\n",
    "\n",
    "\n"
   ]
  },
  {
   "cell_type": "code",
   "execution_count": 2,
   "id": "a7e8b973",
   "metadata": {},
   "outputs": [
    {
     "name": "stdout",
     "output_type": "stream",
     "text": [
      "Enter hours to calculate :23\n",
      "1610\n",
      "Enter hours to calculate :34\n",
      "2380\n",
      "Enter hours to calculate :21\n",
      "1470\n"
     ]
    }
   ],
   "source": [
    "hours = int(input(\"Enter hours to calculate :\"))\n",
    "dist = hours * 70\n",
    "print(dist)\n",
    "\n",
    "hours2=int(input(\"Enter hours to calculate :\"))\n",
    "dist = hours2 * 70\n",
    "print(dist)\n",
    "\n",
    "hours3 = int(input(\"Enter hours to calculate :\"))\n",
    "dist = hours3 * 70\n",
    "print(dist)"
   ]
  },
  {
   "cell_type": "code",
   "execution_count": 4,
   "id": "62bcdc6d",
   "metadata": {},
   "outputs": [
    {
     "name": "stdout",
     "output_type": "stream",
     "text": [
      "Enter your amount of Purchase :230000\n",
      "Enter your number of instalments :9\n",
      "Your total purchase amount is  230000.05\n",
      "Your instalments will cost  25555.0  each\n"
     ]
    }
   ],
   "source": [
    "pur = int(input(\"Enter your amount of Purchase :\"))\n",
    "inst = int(input(\"Enter your number of instalments :\"))\n",
    "t_pur = pur + 0.05\n",
    "print(\"Your total purchase amount is \",t_pur)\n",
    "c1 = print(\"Your instalments will cost \",t_pur // inst,\" each\")"
   ]
  },
  {
   "cell_type": "code",
   "execution_count": 1,
   "id": "0043be5a",
   "metadata": {},
   "outputs": [
    {
     "name": "stdout",
     "output_type": "stream",
     "text": [
      "Enter no of miles :98\n",
      "Enter number of gallons used :12\n",
      "8\n"
     ]
    }
   ],
   "source": [
    "miles = int(input(\"Enter no of miles :\"))\n",
    "gas = int(input(\"Enter number of gallons used :\"))\n",
    "m_gal = miles // gas\n",
    "print(m_gal)"
   ]
  },
  {
   "cell_type": "code",
   "execution_count": 3,
   "id": "ad03aaa6",
   "metadata": {},
   "outputs": [
    {
     "name": "stdout",
     "output_type": "stream",
     "text": [
      "Purchase of food: 120.00\n",
      "Tip: 21.599999999999998\n",
      "Tax: 8.4\n",
      "Total amount: 150.0\n"
     ]
    }
   ],
   "source": [
    "amount = float(input(\"Purchase of food: \"))\n",
    "tip = amount * 0.18\n",
    "tax = amount * 0.07\n",
    "print(\"Tip:\",tip)\n",
    "print(\"Tax:\",tax)\n",
    "t_amount = print(\"Total amount:\",amount + tip + tax)"
   ]
  },
  {
   "cell_type": "code",
   "execution_count": 9,
   "id": "5318e566",
   "metadata": {},
   "outputs": [
    {
     "name": "stdout",
     "output_type": "stream",
     "text": [
      "Enter radius of circle:23\n",
      "1662\n",
      "144\n"
     ]
    }
   ],
   "source": [
    "rad = int(input(\"Enter radius of circle:\"))\n",
    "area = int(3.142 * rad * rad)\n",
    "circ = int(2 * 3.142 * rad)\n",
    "print(area)\n",
    "print(circ)\n"
   ]
  },
  {
   "cell_type": "code",
   "execution_count": 10,
   "id": "082987de",
   "metadata": {},
   "outputs": [
    {
     "name": "stdout",
     "output_type": "stream",
     "text": [
      "Males:7\n",
      "Females:9\n",
      "Percentage of males: 43.75\n",
      "Percentage of females: 56.25\n"
     ]
    }
   ],
   "source": [
    "mal = int(input(\"Males:\"))\n",
    "fem = int(input(\"Females:\"))\n",
    "t_class = mal + fem\n",
    "mal_p = (mal/t_class) * 100\n",
    "fem_p = (fem / t_class) * 100\n",
    "print(\"Percentage of males:\",mal_p)\n",
    "print(\"Percentage of females:\",fem_p)"
   ]
  },
  {
   "cell_type": "code",
   "execution_count": 12,
   "id": "078c9be1",
   "metadata": {},
   "outputs": [
    {
     "name": "stdout",
     "output_type": "stream",
     "text": [
      "The amount bought: 80000\n",
      "The amount given to the broker: 82400.0\n",
      "The amount sold: 85500.0\n",
      "The amount given to the broker: 88065.0\n",
      "The amount left for Joe 80535.0\n"
     ]
    }
   ],
   "source": [
    "b_shares = 2000 * 40\n",
    "br1_p = b_shares * 0.03\n",
    "broker1 = b_shares + br1_p\n",
    "s_shares = 2000 * 42.75\n",
    "br2_p = s_shares * 0.03\n",
    "broker2 = s_shares + br2_p\n",
    "total_br = br1_p + br2_p\n",
    "t_br = s_shares - total_br\n",
    "print(\"The amount bought:\",b_shares)\n",
    "print(\"The amount given to the broker:\",broker1)\n",
    "print(\"The amount sold:\",s_shares)\n",
    "print(\"The amount given to the broker:\",broker2)\n",
    "print(\"The amount left for Joe\",t_br)\n"
   ]
  },
  {
   "cell_type": "code",
   "execution_count": 3,
   "id": "026b657b",
   "metadata": {},
   "outputs": [
    {
     "name": "stdout",
     "output_type": "stream",
     "text": [
      "PLEASE ENTER IN FEET\n",
      "Enter the length of row:98\n",
      "Enter amount of space used by an end-post assembly:32\n",
      "Enter the amount of space between the vines:12\n",
      "You need  2.8333333333333335 of rows\n"
     ]
    }
   ],
   "source": [
    "print(\"PLEASE ENTER IN FEET\")\n",
    "row = int(input(\"Enter the length of row:\"))\n",
    "end = int(input(\"Enter amount of space used by an end-post assembly:\"))\n",
    "space = int(input(\"Enter the amount of space between the vines:\"))\n",
    "num = (row - (2 * end))/space\n",
    "print(\"You need \",num,\"of rows\")"
   ]
  },
  {
   "cell_type": "code",
   "execution_count": 5,
   "id": "eac4e215",
   "metadata": {},
   "outputs": [
    {
     "name": "stdout",
     "output_type": "stream",
     "text": [
      "Enter original principal:65000\n",
      "Enter annual interest rate:3\n",
      "Enter number of times per year compounded:4\n",
      "Enter number of years:6\n",
      "65001.45219643339\n"
     ]
    }
   ],
   "source": [
    "p = int(input(\"Enter original principal:\"))\n",
    "r = int(input(\"Enter annual interest rate:\"))\n",
    "n = int(input(\"Enter number of times per year compounded:\"))\n",
    "t = int(input(\"Enter number of years:\"))\n",
    "t_amount = (p +((1 + r/n)**(n/t)))\n",
    "print(t_amount)"
   ]
  },
  {
   "cell_type": "code",
   "execution_count": null,
   "id": "36054eae",
   "metadata": {},
   "outputs": [],
   "source": []
  }
 ],
 "metadata": {
  "kernelspec": {
   "display_name": "Python 3",
   "language": "python",
   "name": "python3"
  },
  "language_info": {
   "codemirror_mode": {
    "name": "ipython",
    "version": 3
   },
   "file_extension": ".py",
   "mimetype": "text/x-python",
   "name": "python",
   "nbconvert_exporter": "python",
   "pygments_lexer": "ipython3",
   "version": "3.8.8"
  }
 },
 "nbformat": 4,
 "nbformat_minor": 5
}
