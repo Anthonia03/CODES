{
 "cells": [
  {
   "cell_type": "markdown",
   "id": "cfd07bee",
   "metadata": {},
   "source": [
    "NUMBER 15"
   ]
  },
  {
   "cell_type": "code",
   "execution_count": 1,
   "id": "cff2205b",
   "metadata": {},
   "outputs": [
    {
     "name": "stdout",
     "output_type": "stream",
     "text": [
      "Enter number of seconds:86400\n",
      "The time is 1440.0 minutes and 0 seconds\n"
     ]
    }
   ],
   "source": [
    "Second=int(input(\"Enter number of seconds:\"))\n",
    "Minutes=Second/60\n",
    "Time=Second%60\n",
    "Hour=Second/3600\n",
    "Day=Second/86400\n",
    "if Second>=60:\n",
    "    print(\"The time is\",Minutes,\"minutes\",\"and\",Time,\"seconds\")\n",
    "elif Second>=3600:\n",
    "    print(\"The time is\",Hour,\"hours\",\",\",Minutes,\"minutes\",\"and\",Time,\"seconds\")\n",
    "elif Second>=86400:\n",
    "    print(\"The time is\",Day,\"day(s)\",\",\",Hours,\"hours\",\",\",Minutes,\"minutes\",\"and\",Time,\"seconds\")\n",
    "else:\n",
    "    print(\"ERROR\")"
   ]
  },
  {
   "cell_type": "markdown",
   "id": "69de2150",
   "metadata": {},
   "source": [
    "NUMBER 16"
   ]
  },
  {
   "cell_type": "code",
   "execution_count": 14,
   "id": "e0a5add9",
   "metadata": {},
   "outputs": [
    {
     "name": "stdout",
     "output_type": "stream",
     "text": [
      "Enter year:2021\n",
      "In  2021 , there are 29 days which is a leap year\n"
     ]
    }
   ],
   "source": [
    "Year=int(input(\"Enter year:\"))\n",
    "if Year/100 and Year/400:\n",
    "    print(\"In \",Year,\",\",\"there are 29 days which is a leap year\")\n",
    "elif (Year%100)!=0:\n",
    "    print(\"In\",Year,\",\",\"there are 28 days which is not a leap year\")\n",
    "elif Year%4:\n",
    "    print(\"In\",Year,\",\",\"there are 28 days which is not a leap year\")\n",
    "else:\n",
    "    print(\"ERROR\")\n",
    "    "
   ]
  },
  {
   "cell_type": "markdown",
   "id": "37cabc20",
   "metadata": {},
   "source": [
    "NUMBER 18"
   ]
  },
  {
   "cell_type": "code",
   "execution_count": 3,
   "id": "74d7eb41",
   "metadata": {},
   "outputs": [
    {
     "name": "stdout",
     "output_type": "stream",
     "text": [
      "Are you vegan?:no\n",
      "Are you vegetarian?:yes\n",
      "Are you gluten free?:no\n",
      "Mama's Fine Italian\n"
     ]
    }
   ],
   "source": [
    "Vegan=input(\"Are you vegan?:\")\n",
    "Veg=input(\"Are you vegetarian?:\")\n",
    "Gluten=input(\"Are you gluten free?:\")\n",
    "if Veg==\"no\" and Vegan==\"no\" and Gluten==\"no\":\n",
    "    print(\"Joe's Gourmet pizza\")\n",
    "elif Veg==\"yes\" and Vegan==\"no\" and Gluten==\"yes\":\n",
    "    print(\"Main Street Pizza Company\")\n",
    "elif Veg==\"yes\" and Vegan==\"yes\" and Gluten==\"yes\":\n",
    "    print(\"Corner's Cafe\")\n",
    "elif Veg==\"yes\" and Vegan==\"no\" and Gluten==\"no\":\n",
    "    print(\"Mama's Fine Italian\")\n",
    "elif Veg==\"Yes\" and Vegan==\"yes\" and Gluten==\"yes\":\n",
    "    print(\"The Chef's Kitchen\")"
   ]
  },
  {
   "cell_type": "markdown",
   "id": "c769bada",
   "metadata": {},
   "source": [
    "NUMBER 17"
   ]
  },
  {
   "cell_type": "code",
   "execution_count": 6,
   "id": "89c4f81a",
   "metadata": {},
   "outputs": [
    {
     "name": "stdout",
     "output_type": "stream",
     "text": [
      "Reboot the computer and try to connect\n",
      "Did that fix the problem? enter yes or noyes\n",
      "The problem has been taken care of\n",
      "Did that fix the problem? enter yes or noyes\n",
      "The problem has been taken care of but i will advise you to buy a new router for better efficieny\n",
      "Did that fix the problem? enter yes or nono\n",
      "Move the router to a new location and try to connect\n",
      "Did that fix the problem? enter yes or nono\n",
      "Sorry!!,You need a new router\n"
     ]
    }
   ],
   "source": [
    "print(\"Reboot the computer and try to connect\")\n",
    "Question=input(\"Did that fix the problem? enter yes or no\")\n",
    "if Question==\"yes\":\n",
    "    print(\"The problem has been taken care of\")\n",
    "else:\n",
    "    print(\"Reboot the router and try to connect\")\n",
    "Question=input(\"Did that fix the problem? enter yes or no\")\n",
    "if Question== \"yes\":\n",
    "    print(\"The problem has been taken care of but i will advise you to buy a new router for better efficieny\")\n",
    "else:\n",
    "    print(\"Make sure the cables between the router and the modem are plugged in firmly\")\n",
    "Question=input(\"Did that fix the problem? enter yes or no\")\n",
    "if Question== \"yes\":\n",
    "    print(\"The problem has been taken care of\")\n",
    "else:\n",
    "    print(\"Move the router to a new location and try to connect\")\n",
    "Question=input(\"Did that fix the problem? enter yes or no\")\n",
    "if Question==\"yes\":\n",
    "    print(\"The problem has been taken care of\")\n",
    "else:\n",
    "    print(\"Sorry!!,You need a new router\")"
   ]
  },
  {
   "cell_type": "code",
   "execution_count": null,
   "id": "06155dce",
   "metadata": {},
   "outputs": [],
   "source": []
  }
 ],
 "metadata": {
  "kernelspec": {
   "display_name": "Python 3",
   "language": "python",
   "name": "python3"
  },
  "language_info": {
   "codemirror_mode": {
    "name": "ipython",
    "version": 3
   },
   "file_extension": ".py",
   "mimetype": "text/x-python",
   "name": "python",
   "nbconvert_exporter": "python",
   "pygments_lexer": "ipython3",
   "version": "3.8.8"
  }
 },
 "nbformat": 4,
 "nbformat_minor": 5
}
